{
 "cells": [
  {
   "cell_type": "code",
   "execution_count": 1,
   "metadata": {},
   "outputs": [],
   "source": [
    "import numpy as np\n",
    "import scipy.sparse.linalg as linalg"
   ]
  },
  {
   "cell_type": "code",
   "execution_count": 2,
   "metadata": {},
   "outputs": [],
   "source": [
    "a = np.matrix([[2.0, -1.0, 0.0, 0.0, 1.0],\n",
    "               [-1.0, 2.0, 1.0, 0.0, 0.0],\n",
    "               [0.0, 1.0, 1.0, 1.0, 0.0],\n",
    "               [0.0, 0.0, 1.0, 2.0, -1.0],\n",
    "               [1.0, 0.0, 0.0, -1.0 ,2.0]])"
   ]
  },
  {
   "cell_type": "code",
   "execution_count": 3,
   "metadata": {},
   "outputs": [],
   "source": [
    "eigenValues, eigenVectors = linalg.eigs(a, k=1, sigma=0.38197)"
   ]
  },
  {
   "cell_type": "code",
   "execution_count": 4,
   "metadata": {},
   "outputs": [
    {
     "name": "stdout",
     "output_type": "stream",
     "text": [
      "wartośc własna: \n",
      "[0.38196601]\n",
      "wektor wlasny dla wartości własnej\n",
      "[[-6.01500955e-01]\n",
      " [-3.71748034e-01]\n",
      " [ 1.67917070e-16]\n",
      " [ 3.71748034e-01]\n",
      " [ 6.01500955e-01]]\n"
     ]
    }
   ],
   "source": [
    "print(\"wartośc własna: \")\n",
    "print (eigenValues.real)\n",
    "print(\"wektor wlasny dla wartości własnej\")\n",
    "print (eigenVectors.real)\n"
   ]
  },
  {
   "cell_type": "code",
   "execution_count": null,
   "metadata": {},
   "outputs": [],
   "source": []
  }
 ],
 "metadata": {
  "kernelspec": {
   "display_name": "Python 3",
   "language": "python",
   "name": "python3"
  },
  "language_info": {
   "codemirror_mode": {
    "name": "ipython",
    "version": 3
   },
   "file_extension": ".py",
   "mimetype": "text/x-python",
   "name": "python",
   "nbconvert_exporter": "python",
   "pygments_lexer": "ipython3",
   "version": "3.7.3"
  }
 },
 "nbformat": 4,
 "nbformat_minor": 2
}
