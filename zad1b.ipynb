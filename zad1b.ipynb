{
 "cells": [
  {
   "cell_type": "code",
   "execution_count": 1,
   "metadata": {},
   "outputs": [],
   "source": [
    "import numpy as np\n",
    "from scipy.linalg import solve"
   ]
  },
  {
   "cell_type": "code",
   "execution_count": 14,
   "metadata": {},
   "outputs": [
    {
     "name": "stdout",
     "output_type": "stream",
     "text": [
      "[-0.2601626   0.44715447  0.47154472  0.66666667  0.86178862  0.88617886\n",
      "  1.59349593]\n"
     ]
    }
   ],
   "source": [
    "#Macierz A\n",
    "A = np.zeros((7, 7))\n",
    "\n",
    "for i in range(7):\n",
    "    A[i, i] = 4\n",
    "    A[i, i - 1] = 1\n",
    "    A[i - 1, i] = 1\n",
    "#Wektor B\n",
    "b = np.arange(1, 8)\n",
    "\n",
    "X = solve(A, b)\n",
    "print(X)"
   ]
  },
  {
   "cell_type": "code",
   "execution_count": null,
   "metadata": {},
   "outputs": [],
   "source": []
  },
  {
   "cell_type": "code",
   "execution_count": null,
   "metadata": {},
   "outputs": [],
   "source": []
  }
 ],
 "metadata": {
  "kernelspec": {
   "display_name": "Python 3",
   "language": "python",
   "name": "python3"
  },
  "language_info": {
   "codemirror_mode": {
    "name": "ipython",
    "version": 3
   },
   "file_extension": ".py",
   "mimetype": "text/x-python",
   "name": "python",
   "nbconvert_exporter": "python",
   "pygments_lexer": "ipython3",
   "version": "3.7.3"
  }
 },
 "nbformat": 4,
 "nbformat_minor": 2
}
