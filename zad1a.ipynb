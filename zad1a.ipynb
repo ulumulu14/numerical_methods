{
 "cells": [
  {
   "cell_type": "code",
   "execution_count": 118,
   "metadata": {},
   "outputs": [],
   "source": [
    "import numpy as np"
   ]
  },
  {
   "cell_type": "code",
   "execution_count": 181,
   "metadata": {},
   "outputs": [],
   "source": [
    "#algorytm Thomasa\n",
    "def thomasAlgorithm(a, b, c, d):\n",
    "    c_s = [c[0] / b[0]]\n",
    "    d_s = [d[0] / b[0]]\n",
    "    N = len(d)\n",
    "    T = []\n",
    "    \n",
    "    for i in range(1, N - 1):\n",
    "        c_s.append(c[i] / (b[i] - c_s[i - 1] * a[i - 1]))\n",
    "    for i in range(1, N):\n",
    "        d_s.append((d[i] - d_s[i - 1] * (a[i - 1])) / (b[i] - c_s[i - 1] * a[i - 1]))\n",
    "\n",
    "    T.append(d_s[N - 1])\n",
    "    for x, i in enumerate(range(N - 2, -1, -1)):\n",
    "        T.append(d_s[i] - c_s[i] * T[x])\n",
    "    \n",
    "    return T"
   ]
  },
  {
   "cell_type": "code",
   "execution_count": 185,
   "metadata": {},
   "outputs": [
    {
     "name": "stdout",
     "output_type": "stream",
     "text": [
      "[1.5239322533136965, 0.9042709867452136, 0.858983799705449, 0.6597938144329897, 0.501840942562592, 0.33284241531664216, 0.16678939617083946]\n"
     ]
    },
    {
     "data": {
      "text/plain": [
       "[1.5239322533136965,\n",
       " 0.9042709867452136,\n",
       " 0.858983799705449,\n",
       " 0.6597938144329897,\n",
       " 0.501840942562592,\n",
       " 0.33284241531664216,\n",
       " 0.16678939617083946]"
      ]
     },
     "execution_count": 185,
     "metadata": {},
     "output_type": "execute_result"
    }
   ],
   "source": [
    "diag = np.full(7, 4)\n",
    "offDiag = np.full(6, 1)\n",
    "B = np.arange(1, 8)\n",
    "thomasAlgorithm(offDiag, diag, offDiag, B)"
   ]
  },
  {
   "cell_type": "code",
   "execution_count": null,
   "metadata": {},
   "outputs": [],
   "source": []
  },
  {
   "cell_type": "code",
   "execution_count": null,
   "metadata": {},
   "outputs": [],
   "source": []
  }
 ],
 "metadata": {
  "kernelspec": {
   "display_name": "Python 3",
   "language": "python",
   "name": "python3"
  },
  "language_info": {
   "codemirror_mode": {
    "name": "ipython",
    "version": 3
   },
   "file_extension": ".py",
   "mimetype": "text/x-python",
   "name": "python",
   "nbconvert_exporter": "python",
   "pygments_lexer": "ipython3",
   "version": "3.7.3"
  }
 },
 "nbformat": 4,
 "nbformat_minor": 2
}
