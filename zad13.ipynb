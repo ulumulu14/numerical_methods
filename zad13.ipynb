{
 "cells": [
  {
   "cell_type": "code",
   "execution_count": 13,
   "metadata": {},
   "outputs": [],
   "source": [
    "from numpy.polynomial.laguerre import lagroots, lagfromroots"
   ]
  },
  {
   "cell_type": "code",
   "execution_count": 24,
   "metadata": {},
   "outputs": [],
   "source": [
    "def laguerre(coef):\n",
    "    coef = lagfromroots(coef)\n",
    "    return lagroots(coef)"
   ]
  },
  {
   "cell_type": "code",
   "execution_count": 25,
   "metadata": {},
   "outputs": [
    {
     "name": "stdout",
     "output_type": "stream",
     "text": [
      "[-990. -486.  -72.  -28.   16.  243.  558.  783.]\n"
     ]
    }
   ],
   "source": [
    "#a)\n",
    "coef = [243, -486, 783, -990, 558, -28, -72, 16]\n",
    "print(laguerre(coef))"
   ]
  },
  {
   "cell_type": "code",
   "execution_count": 26,
   "metadata": {},
   "outputs": [
    {
     "name": "stdout",
     "output_type": "stream",
     "text": [
      "[-12.        +0.00000000e+00j -11.00000001+0.00000000e+00j\n",
      "  -7.99999999+0.00000000e+00j  -4.00023674+0.00000000e+00j\n",
      "  -3.99976321+0.00000000e+00j  -3.00000005+0.00000000e+00j\n",
      "  -1.        +0.00000000e+00j   1.        -1.19342836e-05j\n",
      "   1.        +1.19342836e-05j   2.        +0.00000000e+00j\n",
      "   3.        +0.00000000e+00j]\n"
     ]
    }
   ],
   "source": [
    "#b)\n",
    "coef = [1, 1, 3, 2, -1, -3, -11, -8, -12, -4, -4]\n",
    "print(laguerre(coef))"
   ]
  },
  {
   "cell_type": "code",
   "execution_count": 27,
   "metadata": {},
   "outputs": [
    {
     "name": "stdout",
     "output_type": "stream",
     "text": [
      "[-1.00000000e+00-2.87381230e-13j -2.87640300e-13+1.00000000e+00j\n",
      "  2.45377026e-13-1.00000000e+00j  9.99999688e-01-3.61976322e-08j\n",
      "  1.00000031e+00+3.61978806e-08j]\n"
     ]
    }
   ],
   "source": [
    "#c)\n",
    "coef = [1, 1j, -1, -1j, 1]\n",
    "print(laguerre(coef))"
   ]
  },
  {
   "cell_type": "code",
   "execution_count": null,
   "metadata": {},
   "outputs": [],
   "source": []
  }
 ],
 "metadata": {
  "kernelspec": {
   "display_name": "Python 3",
   "language": "python",
   "name": "python3"
  },
  "language_info": {
   "codemirror_mode": {
    "name": "ipython",
    "version": 3
   },
   "file_extension": ".py",
   "mimetype": "text/x-python",
   "name": "python",
   "nbconvert_exporter": "python",
   "pygments_lexer": "ipython3",
   "version": "3.7.3"
  }
 },
 "nbformat": 4,
 "nbformat_minor": 2
}
