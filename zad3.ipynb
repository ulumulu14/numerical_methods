{
 "cells": [
  {
   "cell_type": "code",
   "execution_count": 4,
   "metadata": {},
   "outputs": [],
   "source": [
    "import numpy as np"
   ]
  },
  {
   "cell_type": "code",
   "execution_count": 5,
   "metadata": {},
   "outputs": [],
   "source": [
    "A = np.array([[(19 / 12), (13 / 12), (5 / 6), (5 / 6), (13 / 12), (-17 / 12)],\n",
    "              [(13 / 12), (13 / 12), (5 / 6), (5 / 6), (-11 / 12), (13 / 12)],\n",
    "              [(5 / 6), (5 / 6), (5 / 6), (-1 / 6), (5 / 6), (5 / 6)],\n",
    "              [(5 / 6), (5 / 6), (-1 / 6), (5 / 6), (5 / 6), (5 / 6)],\n",
    "              [(13 / 12), (-11 / 12), (5 / 6), (5 / 6), (13 / 12), (13 / 12)],\n",
    "              [(-17 / 12), (13 / 12), (5 / 6), (5 / 6), (13 / 12), (19 / 12)]])"
   ]
  },
  {
   "cell_type": "code",
   "execution_count": 8,
   "metadata": {},
   "outputs": [],
   "source": [
    "values, vectors = np.linalg.eig(A)"
   ]
  },
  {
   "cell_type": "code",
   "execution_count": 10,
   "metadata": {},
   "outputs": [
    {
     "name": "stdout",
     "output_type": "stream",
     "text": [
      "Wartości własne: \n",
      "[ 4.  3. -2. -1.  1.  2.]\n",
      "Wektory własne: \n",
      "[[ 4.08248290e-01  7.07106781e-01  5.00000000e-01 -2.88675135e-01\n",
      "  -9.24483307e-18  5.23849837e-17]\n",
      " [ 4.08248290e-01  1.49949871e-16 -5.00000000e-01 -2.88675135e-01\n",
      "  -8.60228932e-17  7.07106781e-01]\n",
      " [ 4.08248290e-01  2.90184298e-17 -1.04856463e-16  5.77350269e-01\n",
      "  -7.07106781e-01  1.58263070e-16]\n",
      " [ 4.08248290e-01  5.41282396e-17 -1.36908190e-16  5.77350269e-01\n",
      "   7.07106781e-01 -3.33785611e-16]\n",
      " [ 4.08248290e-01  2.69558430e-16 -5.00000000e-01 -2.88675135e-01\n",
      "  -1.13778469e-16 -7.07106781e-01]\n",
      " [ 4.08248290e-01 -7.07106781e-01  5.00000000e-01 -2.88675135e-01\n",
      "  -4.96848321e-17 -1.65849929e-16]]\n"
     ]
    }
   ],
   "source": [
    "print(\"Wartości własne: \")\n",
    "print(values)\n",
    "print(\"Wektory własne: \")\n",
    "print(vectors)"
   ]
  },
  {
   "cell_type": "code",
   "execution_count": null,
   "metadata": {},
   "outputs": [],
   "source": []
  }
 ],
 "metadata": {
  "kernelspec": {
   "display_name": "Python 3",
   "language": "python",
   "name": "python3"
  },
  "language_info": {
   "codemirror_mode": {
    "name": "ipython",
    "version": 3
   },
   "file_extension": ".py",
   "mimetype": "text/x-python",
   "name": "python",
   "nbconvert_exporter": "python",
   "pygments_lexer": "ipython3",
   "version": "3.7.3"
  }
 },
 "nbformat": 4,
 "nbformat_minor": 2
}
