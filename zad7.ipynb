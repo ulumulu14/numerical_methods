{
 "cells": [
  {
   "cell_type": "code",
   "execution_count": 18,
   "metadata": {},
   "outputs": [],
   "source": [
    "import numpy as np\n",
    "import matplotlib.pyplot as plt"
   ]
  },
  {
   "cell_type": "code",
   "execution_count": 45,
   "metadata": {},
   "outputs": [],
   "source": [
    "def L(i, n, x, x_i, points):\n",
    "    Lvalue = 1\n",
    "            \n",
    "    for j in range(n):\n",
    "        if i == j:\n",
    "            continue\n",
    "                \n",
    "        x_j, y_j = points[j]\n",
    "        Lvalue *= (x - x_j) / (x_i - x_j)\n",
    "            \n",
    "    return Lvalue\n",
    "        \n",
    "def lagrange(points, x):\n",
    "    suma = 0\n",
    "    n = len(points)\n",
    "    \n",
    "    for i in range(n):\n",
    "        x_i, y_i = points[i]\n",
    "        \n",
    "        suma += y_i * L(i, n, x, x_i, points)\n",
    "    \n",
    "    return suma"
   ]
  },
  {
   "cell_type": "code",
   "execution_count": 62,
   "metadata": {},
   "outputs": [
    {
     "name": "stdout",
     "output_type": "stream",
     "text": [
      "[[0, 7.393], [1, -11.2196], [2, -116828.1162], [3, -4522961.6409], [4, -48587210.3906], [5, -284069181.9505], [6, -1160662745.1235], [7, -3742290823.9328]]\n"
     ]
    },
    {
     "data": {
      "image/png": "[encoded data removed]",
      "text/plain": [
       "<Figure size 432x288 with 1 Axes>"
      ]
     },
     "metadata": {
      "needs_background": "light"
     },
     "output_type": "display_data"
    }
   ],
   "source": [
    "points = np.array([[0.0625, 0.687959], [0.1875, 0.073443], [0.3125, -0.517558], [0.4375, -1.077264], \n",
    "                   [0.5625, -1.077264], [0.6875, -2.080815], [0.8125, -2.507266], [0.9375, -2.860307]])\n",
    "\n",
    "test = np.array([[1,1], [3,9], [6,70], [10, 100], [12, 144]])\n",
    "z = []\n",
    "\n",
    "for i in range(8):\n",
    "    z.append([i, np.round(lagrange(points, i), decimals = 4)])\n",
    "\n",
    "print(z)\n",
    "z = np.array(z) \n",
    "\n",
    "plt.scatter(points[:, 0], points[:, 1])\n",
    "plt.plot(z[:, 0], z[:, 1])\n",
    "plt.xlim((-1, 1))\n",
    "plt.show()"
   ]
  },
  {
   "cell_type": "code",
   "execution_count": null,
   "metadata": {},
   "outputs": [],
   "source": []
  },
  {
   "cell_type": "code",
   "execution_count": null,
   "metadata": {},
   "outputs": [],
   "source": []
  }
 ],
 "metadata": {
  "kernelspec": {
   "display_name": "Python 3",
   "language": "python",
   "name": "python3"
  },
  "language_info": {
   "codemirror_mode": {
    "name": "ipython",
    "version": 3
   },
   "file_extension": ".py",
   "mimetype": "text/x-python",
   "name": "python",
   "nbconvert_exporter": "python",
   "pygments_lexer": "ipython3",
   "version": "3.7.3"
  }
 },
 "nbformat": 4,
 "nbformat_minor": 2
}
